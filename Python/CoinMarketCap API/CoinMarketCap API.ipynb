{
 "cells": [
  {
   "cell_type": "code",
   "execution_count": null,
   "id": "c627f71e",
   "metadata": {},
   "outputs": [],
   "source": [
    "# Import necessary libraries\n",
    "import pandas as pd\n",
    "from requests import Request, Session\n",
    "import json\n",
    "import os\n",
    "from time import sleep"
   ]
  },
  {
   "cell_type": "code",
   "execution_count": null,
   "id": "7f3a7261",
   "metadata": {},
   "outputs": [],
   "source": [
    "# Define the API endpoint and parameters\n",
    "url = 'https://pro-api.coinmarketcap.com/v1/cryptocurrency/listings/latest'\n",
    "parameters = {\n",
    "    'start': '1',\n",
    "    'limit': '15',  # Updated to focus on the top 15 cryptocurrencies instead of the initial 5000\n",
    "    'convert': 'USD'\n",
    "}\n",
    "# Set the API key for authentication\n",
    "headers = {\n",
    "    'Accepts': 'application/json',\n",
    "    'X-CMC_PRO_API_KEY': '3dc9f005-19a0-456b-ad8f-28b85f789732',\n",
    "}\n",
    "\n",
    "# Create a session and set headers\n",
    "session = Session()\n",
    "session.headers.update(headers)\n",
    "\n",
    "try:\n",
    "    # Send a GET request to the API endpoint with specified parameters\n",
    "    response = session.get(url, params=parameters)\n",
    "    data = json.loads(response.text)  # Parse the JSON response\n",
    "    print(data)  # Print the JSON data\n",
    "except (ConnectionError, Timeout, TooManyRedirects) as e:\n",
    "    print(e)  # Handle connection errors\n",
    "else:\n",
    "    # Save the JSON data to a file named 'data.json', indenting for readability\n",
    "    with open(\"data.json\", 'w') as json_file:\n",
    "        json.dump(data, json_file, indent=2)  # Save the data into a JSON file and indent it for readability\n"
   ]
  },
  {
   "cell_type": "code",
   "execution_count": null,
   "id": "8b37dee9",
   "metadata": {},
   "outputs": [],
   "source": [
    "# Set display options for pandas DataFrame\n",
    "# This allows you to see all the columns and rows, not just like 15\n",
    "pd.set_option('display.max_columns', None,'display.max_rows', None)\n",
    "# Set display options for float format\n",
    "pd.set_option('display.float_format', '{:.5f}'.format)"
   ]
  },
  {
   "cell_type": "code",
   "execution_count": null,
   "id": "330a5f9d",
   "metadata": {},
   "outputs": [],
   "source": [
    "# Normalize JSON data and create a DataFrame\n",
    "dframe = pd.json_normalize(data['data'])\n",
    "dframe"
   ]
  },
  {
   "cell_type": "code",
   "execution_count": null,
   "id": "0f7caf19",
   "metadata": {},
   "outputs": [],
   "source": []
  },
  {
   "cell_type": "markdown",
   "id": "12ab8b7b",
   "metadata": {},
   "source": [
    "## SECOND VIDEO"
   ]
  },
  {
   "cell_type": "code",
   "execution_count": null,
   "id": "ac27375f",
   "metadata": {},
   "outputs": [],
   "source": [
    "# Define column names for the DataFrame\n",
    "columns = [\n",
    "    \"id\", \"name\", \"symbol\", \"slug\", \"num_market_pairs\", \"date_added\", \"tags\",\n",
    "    \"max_supply\", \"circulating_supply\", \"total_supply\", \"infinite_supply\",\n",
    "    \"platform\", \"cmc_rank\", \"self_reported_circulating_supply\",\n",
    "    \"self_reported_market_cap\", \"tvl_ratio\", \"last_updated\",\n",
    "    \"quote.USD.price\", \"quote.USD.volume_24h\", \"quote.USD.volume_change_24h\",\n",
    "    \"quote.USD.percent_change_1h\", \"quote.USD.percent_change_24h\",\n",
    "    \"quote.USD.percent_change_7d\", \"quote.USD.percent_change_30d\",\n",
    "    \"quote.USD.percent_change_60d\", \"quote.USD.percent_change_90d\",\n",
    "    \"quote.USD.market_cap\", \"quote.USD.market_cap_dominance\",\n",
    "    \"quote.USD.fully_diluted_market_cap\", \"quote.USD.tvl\",\n",
    "    \"quote.USD.last_updated\", \"platform.id\", \"platform.name\",\n",
    "    \"platform.symbol\", \"platform.slug\", \"platform.token_address\", \"timestamp\"\n",
    "]\n",
    "\n",
    "# Create an empty DataFrame with specified columns\n",
    "dframe = pd.DataFrame(columns=columns)"
   ]
  },
  {
   "cell_type": "code",
   "execution_count": null,
   "id": "78135f90",
   "metadata": {},
   "outputs": [],
   "source": [
    "# Function to fetch data from the API and save to CSV\n",
    "def api_runner():\n",
    "    global dframe\n",
    "    # Same API endpoint and parameters as before\n",
    "    url = 'https://pro-api.coinmarketcap.com/v1/cryptocurrency/listings/latest'\n",
    "    parameters = {\n",
    "        'start': '1',\n",
    "        'limit': '15',  # Updated to focus on the top 15 cryptocurrencies instead of the initial 5000\n",
    "        'convert': 'USD'\n",
    "    }\n",
    "    headers = {\n",
    "        'Accepts': 'application/json',\n",
    "        'X-CMC_PRO_API_KEY': '3dc9f005-19a0-456b-ad8f-28b85f789732',\n",
    "    }\n",
    "\n",
    "    session = Session()\n",
    "    session.headers.update(headers)\n",
    "\n",
    "    try:\n",
    "        response = session.get(url, params=parameters)\n",
    "        data = json.loads(response.text)\n",
    "    except (ConnectionError, Timeout, TooManyRedirects) as e:\n",
    "        print(e)\n",
    "    else:\n",
    "        dframe2 = pd.json_normalize(data['data'])\n",
    "        dframe2['timestamp'] = pd.to_datetime('now', utc=True)\n",
    "        dframe = pd.concat([dframe, dframe2], ignore_index=False)\n",
    "        save_to_csv(dframe2)  # Save the new data to CSV\n"
   ]
  },
  {
   "cell_type": "code",
   "execution_count": null,
   "id": "2b873409",
   "metadata": {},
   "outputs": [],
   "source": [
    "# Function to save DataFrame to CSV file\n",
    "def save_to_csv(df):\n",
    "    # Specify the file path\n",
    "    file_path = r\"C:\\Users\\ORESANYA\\Classic Isaac\\Python\\CoinMarketData.csv\"\n",
    "    #file_path = r\"C:\\path\\to\\CoinMarketData.csv\"\n",
    "\n",
    "    # Check if the file exists\n",
    "    if not os.path.isfile(file_path):\n",
    "        # If the file does not exist, write headers\n",
    "        df.to_csv(file_path, header=\"column_names\", index=False)\n",
    "    else:\n",
    "        # If the file exists, append data without headers\n",
    "        df.to_csv(file_path, mode='a', header=False, index=False)\n"
   ]
  },
  {
   "cell_type": "code",
   "execution_count": null,
   "id": "07fe8c2f",
   "metadata": {},
   "outputs": [],
   "source": [
    "# Main function to run API calls and save data\n",
    "def main():\n",
    "    for i in range(5):\n",
    "        api_runner()  # Call the API runner function\n",
    "        print('API Runner completed')\n",
    "        sleep(60)  # Sleep for 1 minute before next API call\n",
    "    exit()"
   ]
  },
  {
   "cell_type": "code",
   "execution_count": null,
   "id": "4751faa1",
   "metadata": {},
   "outputs": [],
   "source": [
    "main()"
   ]
  },
  {
   "cell_type": "code",
   "execution_count": null,
   "id": "29235a20",
   "metadata": {},
   "outputs": [],
   "source": [
    "# Read data from CSV file\n",
    "dframe3 = pd.read_csv(r\"C:\\Users\\ORESANYA\\Classic Isaac\\Python\\CoinMarketData.csv\")\n",
    "dframe3\n"
   ]
  },
  {
   "cell_type": "code",
   "execution_count": null,
   "id": "d10ce691",
   "metadata": {},
   "outputs": [],
   "source": []
  },
  {
   "cell_type": "code",
   "execution_count": null,
   "id": "80d722b3",
   "metadata": {},
   "outputs": [],
   "source": [
    "# Group data by cryptocurrency name and calculate mean percent changes\n",
    "dframe4 = dframe3.groupby('name', sort=False)[[\n",
    "    'quote.USD.percent_change_1h',\n",
    "    'quote.USD.percent_change_24h',\n",
    "    'quote.USD.percent_change_7d',\n",
    "    'quote.USD.percent_change_30d',\n",
    "    'quote.USD.percent_change_60d',\n",
    "    'quote.USD.percent_change_90d']].mean()\n",
    "\n",
    "dframe4"
   ]
  },
  {
   "cell_type": "code",
   "execution_count": null,
   "id": "7063da70",
   "metadata": {
    "scrolled": true
   },
   "outputs": [],
   "source": [
    "# Stack the DataFrame to create a multi-level index\n",
    "dframe5 = dframe4.stack()\n",
    "dframe5"
   ]
  },
  {
   "cell_type": "code",
   "execution_count": null,
   "id": "4f933519",
   "metadata": {},
   "outputs": [],
   "source": [
    "print(type(dframe5))\n",
    "\n",
    "# Convert the stacked data to a DataFrame\n",
    "dframe6 = dframe5.to_frame(name='values')\n",
    "\n",
    "# Reset index and rename columns\n",
    "dframe6.reset_index(inplace=True)\n",
    "dframe6.rename(columns={'name': 'cryptocurrency', 'level_1': 'percent_change'}, inplace=True)\n",
    "dframe6 "
   ]
  },
  {
   "cell_type": "code",
   "execution_count": null,
   "id": "7e9be410",
   "metadata": {},
   "outputs": [],
   "source": []
  },
  {
   "cell_type": "code",
   "execution_count": null,
   "id": "365d8f16",
   "metadata": {},
   "outputs": [],
   "source": []
  },
  {
   "cell_type": "code",
   "execution_count": null,
   "id": "e0dc94b6",
   "metadata": {},
   "outputs": [],
   "source": []
  }
 ],
 "metadata": {
  "kernelspec": {
   "display_name": "Python 3 (ipykernel)",
   "language": "python",
   "name": "python3"
  },
  "language_info": {
   "codemirror_mode": {
    "name": "ipython",
    "version": 3
   },
   "file_extension": ".py",
   "mimetype": "text/x-python",
   "name": "python",
   "nbconvert_exporter": "python",
   "pygments_lexer": "ipython3",
   "version": "3.9.12"
  }
 },
 "nbformat": 4,
 "nbformat_minor": 5
}
