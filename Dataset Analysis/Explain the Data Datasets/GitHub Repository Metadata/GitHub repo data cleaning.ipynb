{
 "cells": [
  {
   "cell_type": "code",
   "execution_count": null,
   "id": "c340b513-f912-4f31-b72e-bfee256a74cc",
   "metadata": {},
   "outputs": [],
   "source": [
    "import pandas as pd\n",
    "import json\n",
    "from pathlib import Path\n",
    "\n",
    "# Path to the merged dataset file (adjust the path if needed)\n",
    "dataset_file = Path(\"combined_github_data.jsonl\")\n",
    "\n",
    "try:\n",
    "    print(f\"Loading dataset from '{dataset_file}' using pd.read_json with engine='python'...\")\n",
    "    # Using engine='python' and compression='infer' in case the file is gzipped.\n",
    "    df = pd.read_json(dataset_file, lines=True, compression='infer', engine='python')\n",
    "    \n",
    "    print(\"Dataset loaded successfully!\")\n",
    "    print(\"Number of records:\", len(df))\n",
    "    print(\"DataFrame shape:\", df.shape)\n",
    "    print(\"Columns:\", df.columns.tolist())\n",
    "    print(\"\\nFirst 5 rows of the dataset:\")\n",
    "    print(df.head())\n",
    "\n",
    "except Exception as e:\n",
    "    print(\"Error loading the dataset with pd.read_json:\", e)\n",
    "    print(\"Attempting fallback method (line-by-line manual loading)...\")\n",
    "    try:\n",
    "        # Read the file line by line and load each JSON object individually\n",
    "        with dataset_file.open(\"r\", encoding=\"utf-8\") as f:\n",
    "            data = [json.loads(line) for line in f if line.strip()]\n",
    "        df = pd.DataFrame(data)\n",
    "        \n",
    "        print(\"Fallback: Dataset loaded successfully!\")\n",
    "    except Exception as e2:\n",
    "        print(\"Fallback method also failed:\", e2)"
   ]
  },
  {
   "cell_type": "code",
   "execution_count": null,
   "id": "e44129a1-1671-4f7e-b884-7200d4eda3c9",
   "metadata": {},
   "outputs": [],
   "source": [
    "print(\"Number of records:\", len(df))\n",
    "print(\"DataFrame shape:\", df.shape)\n",
    "print(\"Columns:\", df.columns.tolist())"
   ]
  },
  {
   "cell_type": "code",
   "execution_count": null,
   "id": "8fb928e3-b61b-4fa2-83f9-8b47316f776d",
   "metadata": {},
   "outputs": [],
   "source": [
    "pd.set_option('display.max_columns', None)\n",
    "df.head(1000)"
   ]
  },
  {
   "cell_type": "code",
   "execution_count": null,
   "id": "18f68c32-80c3-4a44-a6df-46e3f74d9e95",
   "metadata": {},
   "outputs": [],
   "source": [
    "# Convert Unix timestamp columns (in milliseconds) to readable date format (no time)\n",
    "timestamp_cols = ['created_at', 'updated_at', 'pushed_at']\n",
    "df[timestamp_cols] = df[timestamp_cols].apply(lambda col: pd.to_datetime(col, unit='ms').dt.date)\n",
    "\n",
    "# Convert 'file_count' column to integer\n",
    "df['file_count'] = df['file_count'].fillna(0).astype(int)\n",
    "\n",
    "df['description'] = df['description'].fillna('No description')"
   ]
  },
  {
   "cell_type": "code",
   "execution_count": null,
   "id": "35d2ee3f-7bad-4b4b-af00-7845be46bc27",
   "metadata": {
    "scrolled": true
   },
   "outputs": [],
   "source": [
    "# List of columns you want to keep (including ones you said to keep, even if optional)\n",
    "keep_even_if_optional = [\n",
    "    'github_url', 'repo', 'file_list', 'languages_breakdown',\n",
    "    'readme_preview', 'sidebar_about_text', 'commit_count_display'\n",
    "]\n",
    "\n",
    "core_columns_to_keep = [\n",
    "    'repo_name', 'owner', 'description', 'stars', 'forks', 'watchers',\n",
    "    'open_issues_count', 'contributors_count_page1', 'language',\n",
    "    'created_at', 'updated_at', 'pushed_at',\n",
    "    'community_health_percentage', 'has_readme',\n",
    "    'readme_size_bytes', 'release_count_page1', 'open_pulls_count_page1',\n",
    "    'workflow_count', 'file_count', 'query_date_range'\n",
    "]\n",
    "\n",
    "# Combine and check for availability in dataset\n",
    "all_columns_to_keep = core_columns_to_keep + keep_even_if_optional\n",
    "final_columns_to_keep = [col for col in all_columns_to_keep if col in df.columns]\n",
    "\n",
    "# Create cleaned dataset\n",
    "df_cleaned = df[final_columns_to_keep]"
   ]
  },
  {
   "cell_type": "code",
   "execution_count": null,
   "id": "ac85684a-6322-4dea-931a-a571d8e5003d",
   "metadata": {},
   "outputs": [],
   "source": [
    "# Reorder columns in your cleaned dataset\n",
    "ordered_columns = [\n",
    "    'repo_name', 'owner', 'github_url', 'description',\n",
    "    'stars', 'forks', 'watchers', 'open_issues_count', 'open_pulls_count_page1',\n",
    "    'contributors_count_page1', 'release_count_page1',\n",
    "    'created_at', 'updated_at', 'pushed_at',\n",
    "    'has_readme', 'community_health_percentage', 'workflow_count', 'readme_size_bytes',\n",
    "    'language', 'languages_breakdown',\n",
    "    'file_count', 'file_list',\n",
    "    'readme_preview', 'commit_count_display',\n",
    "    'query_date_range'\n",
    "]\n",
    "\n",
    "# Only reorder if all columns exist in the DataFrame\n",
    "ordered_columns = [col for col in ordered_columns if col in df_cleaned.columns]\n",
    "df_cleaned = df_cleaned[ordered_columns]"
   ]
  },
  {
   "cell_type": "code",
   "execution_count": null,
   "id": "66878c7d-f0ab-455e-86a0-53217658584b",
   "metadata": {},
   "outputs": [],
   "source": [
    "df_cleaned"
   ]
  },
  {
   "cell_type": "code",
   "execution_count": null,
   "id": "2050d7df-dbf3-4066-be18-c06be28f0a2f",
   "metadata": {},
   "outputs": [],
   "source": [
    "# Save the cleaned file\n",
    "df_cleaned.to_csv(\"GitHub_repo_metadata.csv\", index=False)"
   ]
  },
  {
   "cell_type": "code",
   "execution_count": null,
   "id": "2f3dfb0e-522a-4dc2-972a-f4034164a025",
   "metadata": {},
   "outputs": [],
   "source": []
  }
 ],
 "metadata": {
  "kernelspec": {
   "display_name": "Python 3 (ipykernel)",
   "language": "python",
   "name": "python3"
  },
  "language_info": {
   "codemirror_mode": {
    "name": "ipython",
    "version": 3
   },
   "file_extension": ".py",
   "mimetype": "text/x-python",
   "name": "python",
   "nbconvert_exporter": "python",
   "pygments_lexer": "ipython3",
   "version": "3.12.4"
  }
 },
 "nbformat": 4,
 "nbformat_minor": 5
}
