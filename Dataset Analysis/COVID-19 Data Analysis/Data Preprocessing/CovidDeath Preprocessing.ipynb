{
 "cells": [
  {
   "cell_type": "code",
   "execution_count": null,
   "id": "75d71f68",
   "metadata": {},
   "outputs": [],
   "source": [
    "import pandas as pd"
   ]
  },
  {
   "cell_type": "code",
   "execution_count": null,
   "id": "01dc3e45",
   "metadata": {},
   "outputs": [],
   "source": [
    "pd.set_option(\"display.max_columns\",None)\n",
    "columns=[\"iso_code\",\"continent\",\"location\",\"date\",\"population\",\"total_cases\",\"new_cases\",\"total_deaths\",\"new_deaths\"]\n",
    "data=pd.read_excel(\"../Raw Data/CovidDeaths_rawdata.xlsx\",usecols=columns)"
   ]
  },
  {
   "cell_type": "code",
   "execution_count": null,
   "id": "13a58a4f",
   "metadata": {},
   "outputs": [],
   "source": [
    "data.head(50)"
   ]
  },
  {
   "cell_type": "code",
   "execution_count": null,
   "id": "9c4f08fa",
   "metadata": {},
   "outputs": [],
   "source": [
    "#Display the count of missing values in each column\n",
    "print(data.isnull().sum())\n",
    "#Show column datatypes\n",
    "print(data.dtypes)"
   ]
  },
  {
   "cell_type": "code",
   "execution_count": null,
   "id": "28a398f8",
   "metadata": {},
   "outputs": [],
   "source": [
    "#Replace null values with 0 in specific columns and change data type to integer\n",
    "null_columns=[\"population\",\"total_cases\",\"new_cases\",\"total_deaths\",\"new_deaths\"]\n",
    "for _ in null_columns:\n",
    "    data[null_columns]=data[null_columns].fillna(0).astype(int)"
   ]
  },
  {
   "cell_type": "code",
   "execution_count": null,
   "id": "ed8025b6",
   "metadata": {},
   "outputs": [],
   "source": [
    "data.head()"
   ]
  },
  {
   "cell_type": "code",
   "execution_count": null,
   "id": "deed62a9",
   "metadata": {},
   "outputs": [],
   "source": [
    "print(data.isnull().sum())\n",
    "print(data.dtypes)"
   ]
  },
  {
   "cell_type": "markdown",
   "id": "0d652ad0",
   "metadata": {},
   "source": [
    "Filtering data by removing rows with missing continent values\n"
   ]
  },
  {
   "cell_type": "code",
   "execution_count": null,
   "id": "fbdba470",
   "metadata": {},
   "outputs": [],
   "source": [
    "data_location=data[data[\"continent\"].notnull()]"
   ]
  },
  {
   "cell_type": "code",
   "execution_count": null,
   "id": "8a79381f",
   "metadata": {},
   "outputs": [],
   "source": [
    "#Export data into a csv file\n",
    "data_location.to_csv(\"CovidDeaths.csv\",index=False)"
   ]
  },
  {
   "cell_type": "code",
   "execution_count": null,
   "id": "dc95f8e5",
   "metadata": {},
   "outputs": [],
   "source": []
  }
 ],
 "metadata": {
  "kernelspec": {
   "display_name": "Python 3 (ipykernel)",
   "language": "python",
   "name": "python3"
  },
  "language_info": {
   "codemirror_mode": {
    "name": "ipython",
    "version": 3
   },
   "file_extension": ".py",
   "mimetype": "text/x-python",
   "name": "python",
   "nbconvert_exporter": "python",
   "pygments_lexer": "ipython3",
   "version": "3.9.12"
  }
 },
 "nbformat": 4,
 "nbformat_minor": 5
}
